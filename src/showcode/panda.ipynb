import numpy, math, matplotlib.pyplot as plt
    %matplotlib inline
x = numpy.linspace(0, 2*math.pi)
plt.plot(x, numpy.sin(x))
